{
 "cells": [
  {
   "cell_type": "code",
   "execution_count": 98,
   "metadata": {
    "collapsed": true
   },
   "outputs": [],
   "source": [
    "import cv2\n",
    "import numpy as np\n",
    "import matplotlib.pyplot as plt"
   ]
  },
  {
   "cell_type": "code",
   "execution_count": 99,
   "outputs": [],
   "source": [
    "def load_image_cv2(filepath: str):\n",
    "    \"\"\"Load image with cv2. Use with `albumentations`.\"\"\"\n",
    "    out = cv2.imread(filepath, cv2.IMREAD_GRAYSCALE)  # 2D; (H, W)\n",
    "    return np.expand_dims(out, axis=2)  # 3D; (H, W, 1)"
   ],
   "metadata": {
    "collapsed": false,
    "pycharm": {
     "name": "#%%\n"
    }
   }
  },
  {
   "cell_type": "code",
   "execution_count": 100,
   "outputs": [],
   "source": [
    "image = load_image_cv2('data/wm811k/labeled/test/center/000604.png')"
   ],
   "metadata": {
    "collapsed": false,
    "pycharm": {
     "name": "#%%\n"
    }
   }
  },
  {
   "cell_type": "code",
   "execution_count": 101,
   "outputs": [
    {
     "data": {
      "text/plain": "(26, 26, 1)"
     },
     "execution_count": 101,
     "metadata": {},
     "output_type": "execute_result"
    }
   ],
   "source": [
    "image.shape"
   ],
   "metadata": {
    "collapsed": false,
    "pycharm": {
     "name": "#%%\n"
    }
   }
  },
  {
   "cell_type": "code",
   "execution_count": 102,
   "outputs": [
    {
     "data": {
      "text/plain": "<matplotlib.image.AxesImage at 0x178f319acd0>"
     },
     "execution_count": 102,
     "metadata": {},
     "output_type": "execute_result"
    },
    {
     "data": {
      "text/plain": "<Figure size 640x480 with 1 Axes>",
      "image/png": "[encoded data removed]"
     },
     "metadata": {},
     "output_type": "display_data"
    }
   ],
   "source": [
    "plt.imshow(np.array(image))"
   ],
   "metadata": {
    "collapsed": false,
    "pycharm": {
     "name": "#%%\n"
    }
   }
  },
  {
   "cell_type": "code",
   "execution_count": 103,
   "outputs": [],
   "source": [
    "import albumentations as A\n",
    "from torch.distributions import Bernoulli\n",
    "from albumentations.core.transforms_interface import BasicTransform\n",
    "from albumentations.core.transforms_interface import ImageOnlyTransform\n",
    "import torch\n",
    "\n",
    "class ToWBM(BasicTransform):\n",
    "    def __init__(self, always_apply: bool = True, p: float = 1.0):\n",
    "        super(ToWBM, self).__init__(always_apply, p)\n",
    "\n",
    "    @property\n",
    "    def targets(self):\n",
    "        return {\"image\": self.apply}\n",
    "\n",
    "    def apply(self, img: np.ndarray, **kwargs):  # pylint: disable=unused-argument\n",
    "        if isinstance(img, np.ndarray):\n",
    "            if img.ndim == 2:\n",
    "                img = img[:, :, None]\n",
    "            # img = torch.from_numpy(img.transpose(2, 0, 1))\n",
    "            img = torch.from_numpy(img)\n",
    "            if isinstance(img, torch.ByteTensor):\n",
    "                img = img.float().div(255)\n",
    "        return torch.ceil(img * 2)\n",
    "\n",
    "    def get_transform_init_args_names(self):\n",
    "        return []\n",
    "\n",
    "    def get_params_dependent_on_targets(self, params):\n",
    "        return {}\n",
    "\n",
    "class MaskedBernoulliNoise(ImageOnlyTransform):\n",
    "    def __init__(self, noise: float, always_apply: bool = False, p: float = 1.0):\n",
    "        super(MaskedBernoulliNoise, self).__init__(always_apply, p)\n",
    "        self.noise = noise\n",
    "        self.min_ = 0\n",
    "        self.max_ = 1\n",
    "        self.bernoulli = Bernoulli(probs=noise)\n",
    "\n",
    "    def apply(self, x: torch.Tensor, **kwargs):  # pylint: disable=unused-argument\n",
    "        assert x.ndim == 3\n",
    "        m = self.bernoulli.sample(x.size()).to(x.device)\n",
    "        m = m * x.gt(0).float()\n",
    "        noise_value = 1 + torch.randint_like(x, self.min_, self.max_ + 1).to(x.device)  # 1 or 2\n",
    "        return x * (1 - m) + noise_value * m\n",
    "\n",
    "    def get_params(self):\n",
    "        return {'noise': self.noise}"
   ],
   "metadata": {
    "collapsed": false,
    "pycharm": {
     "name": "#%%\n"
    }
   }
  },
  {
   "cell_type": "code",
   "execution_count": 109,
   "outputs": [],
   "source": [
    "class WM811KTransformMultiple(object):\n",
    "    \"\"\"Transformations for wafer bin maps from WM-811K.\"\"\"\n",
    "    def __init__(self,\n",
    "                 *hyperparams\n",
    "                 ):\n",
    "        transforms = []\n",
    "        size = (26, 26)\n",
    "        resize_transform = A.Resize(*size, interpolation=cv2.INTER_NEAREST)\n",
    "        wbm_transform = ToWBM()\n",
    "\n",
    "        transforms.append(resize_transform)\n",
    "        transforms.append(wbm_transform)\n",
    "        print(f'start {len(hyperparams)-1} --> {hyperparams}')\n",
    "\n",
    "        for i in range(0, len(hyperparams)-1, 4):\n",
    "            print('start...', i)\n",
    "            mode, magnitude = hyperparams[i], hyperparams[i+1] #, hyperparams[i+2], hyperparams[i+3]\n",
    "\n",
    "            if mode == 'crop':\n",
    "                print('crop')\n",
    "                # scale = (magnitude, magnitude + 0.5)  # 0.1 < magnitude < 0.5\n",
    "                # ratio = (0.9, 1.1)\n",
    "                transforms.append(A.RandomResizedCrop(*size, interpolation=cv2.INTER_NEAREST, p=magnitude),)\n",
    "            elif mode == 'cutout':\n",
    "                print('cutout')\n",
    "                cut_ratio = magnitude  # 0.2 = magnitude\n",
    "                num_holes: int = 4\n",
    "                # cut_ratio: float = 0.2\n",
    "                cut_h = int(size[0] * cut_ratio)\n",
    "                cut_w = int(size[1] * cut_ratio)\n",
    "                transforms.append(A.Cutout(num_holes=num_holes, max_h_size=cut_h, max_w_size=cut_w, fill_value=0, p=0.5))\n",
    "            elif mode == 'noise':\n",
    "                print('noise')\n",
    "                noise = magnitude\n",
    "                # noise: float = 0.05\n",
    "                transforms.append(MaskedBernoulliNoise(noise=noise))\n",
    "            elif mode == 'rotate':\n",
    "                print('rotate')\n",
    "                limit = magnitude  # 180 (angle)\n",
    "                transforms.append(A.Rotate(limit=limit, interpolation=cv2.INTER_NEAREST, border_mode=cv2.BORDER_CONSTANT, p=1.0),)\n",
    "            elif mode == 'shift':\n",
    "                print('shift')\n",
    "                shift = magnitude  # 0.25\n",
    "                transforms.append( A.ShiftScaleRotate(\n",
    "                shift_limit=shift,\n",
    "                scale_limit=0,\n",
    "                rotate_limit=0,\n",
    "                interpolation=cv2.INTER_NEAREST,\n",
    "                border_mode=cv2.BORDER_CONSTANT,\n",
    "                value=0,\n",
    "                p=1.0\n",
    "            ),)\n",
    "            elif mode == 'test':\n",
    "                pass\n",
    "\n",
    "\n",
    "\n",
    "\n",
    "        self.transform = A.Compose(transforms)\n",
    "\n",
    "    def __call__(self, img):\n",
    "        return self.transform(image=img)['image']"
   ],
   "metadata": {
    "collapsed": false,
    "pycharm": {
     "name": "#%%\n"
    }
   }
  },
  {
   "cell_type": "code",
   "execution_count": 110,
   "outputs": [],
   "source": [
    "# hyperparams = ['rotate', 0.8009107519796445, 'rotate', 0.6788795301189604, 'rotate', 0.5820197920751072, 'rotate', 0.7586156243223574, 'rotate', 0.47360041934665753, 'rotate', 0.7369181771289582, 'rotate', 0.13521817340545209, 'rotate', 0.1496748671836832, 'rotate', 0.38648898112586205, 'rotate', 0.4499499899112277]"
   ],
   "metadata": {
    "collapsed": false,
    "pycharm": {
     "name": "#%%\n"
    }
   }
  },
  {
   "cell_type": "markdown",
   "source": [
    "# rotate"
   ],
   "metadata": {
    "collapsed": false,
    "pycharm": {
     "name": "#%% md\n"
    }
   }
  },
  {
   "cell_type": "code",
   "execution_count": 134,
   "outputs": [
    {
     "name": "stdout",
     "output_type": "stream",
     "text": [
      "start 4 --> ('crop', 0.2, 'rotate', 0.3, 1.0)\n",
      "start... 0\n",
      "crop\n"
     ]
    },
    {
     "data": {
      "text/plain": "<matplotlib.image.AxesImage at 0x178f34d9460>"
     },
     "execution_count": 134,
     "metadata": {},
     "output_type": "execute_result"
    },
    {
     "data": {
      "text/plain": "<Figure size 640x480 with 1 Axes>",
      "image/png": "[encoded data removed]"
     },
     "metadata": {},
     "output_type": "display_data"
    }
   ],
   "source": [
    "hyperparams = ['crop', 0.2, 'rotate', 0.3, 1.0]\n",
    "transform = WM811KTransformMultiple(*hyperparams)\n",
    "plt.imshow(transform(image))"
   ],
   "metadata": {
    "collapsed": false,
    "pycharm": {
     "name": "#%%\n"
    }
   }
  },
  {
   "cell_type": "code",
   "execution_count": 135,
   "outputs": [
    {
     "name": "stdout",
     "output_type": "stream",
     "text": [
      "start 4 --> ('cutout', 0.2, 'rotate', 0.3, 1.0)\n",
      "start... 0\n",
      "cutout\n"
     ]
    },
    {
     "data": {
      "text/plain": "<matplotlib.image.AxesImage at 0x178f357e4f0>"
     },
     "execution_count": 135,
     "metadata": {},
     "output_type": "execute_result"
    },
    {
     "data": {
      "text/plain": "<Figure size 640x480 with 1 Axes>",
      "image/png": "[encoded data removed]"
     },
     "metadata": {},
     "output_type": "display_data"
    }
   ],
   "source": [
    "hyperparams = ['cutout', 0.2, 'rotate', 0.3, 1.0]\n",
    "transform = WM811KTransformMultiple(*hyperparams)\n",
    "plt.imshow(transform(image))"
   ],
   "metadata": {
    "collapsed": false,
    "pycharm": {
     "name": "#%%\n"
    }
   }
  },
  {
   "cell_type": "code",
   "execution_count": 136,
   "outputs": [
    {
     "name": "stdout",
     "output_type": "stream",
     "text": [
      "start 4 --> ('noise', 0.2, 'rotate', 0.3, 1.0)\n",
      "start... 0\n",
      "noise\n"
     ]
    },
    {
     "data": {
      "text/plain": "<matplotlib.image.AxesImage at 0x178f372a7c0>"
     },
     "execution_count": 136,
     "metadata": {},
     "output_type": "execute_result"
    },
    {
     "data": {
      "text/plain": "<Figure size 640x480 with 1 Axes>",
      "image/png": "[encoded data removed]"
     },
     "metadata": {},
     "output_type": "display_data"
    }
   ],
   "source": [
    "hyperparams = ['noise', 0.2, 'rotate', 0.3, 1.0]\n",
    "transform = WM811KTransformMultiple(*hyperparams)\n",
    "plt.imshow(transform(image))"
   ],
   "metadata": {
    "collapsed": false,
    "pycharm": {
     "name": "#%%\n"
    }
   }
  },
  {
   "cell_type": "code",
   "execution_count": 137,
   "outputs": [
    {
     "name": "stdout",
     "output_type": "stream",
     "text": [
      "start 4 --> ('shift', 0.2, 'rotate', 0.3, 1.0)\n",
      "start... 0\n",
      "shift\n"
     ]
    },
    {
     "ename": "error",
     "evalue": "OpenCV(4.6.0) :-1: error: (-5:Bad argument) in function 'warpAffine'\n> Overload resolution failed:\n>  - src is not a numpy array, neither a scalar\n>  - Expected Ptr<cv::UMat> for argument 'src'\n",
     "output_type": "error",
     "traceback": [
      "\u001B[1;31m---------------------------------------------------------------------------\u001B[0m",
      "\u001B[1;31merror\u001B[0m                                     Traceback (most recent call last)",
      "Cell \u001B[1;32mIn[137], line 3\u001B[0m\n\u001B[0;32m      1\u001B[0m hyperparams \u001B[38;5;241m=\u001B[39m [\u001B[38;5;124m'\u001B[39m\u001B[38;5;124mshift\u001B[39m\u001B[38;5;124m'\u001B[39m, \u001B[38;5;241m0.2\u001B[39m, \u001B[38;5;124m'\u001B[39m\u001B[38;5;124mrotate\u001B[39m\u001B[38;5;124m'\u001B[39m, \u001B[38;5;241m0.3\u001B[39m, \u001B[38;5;241m1.0\u001B[39m]\n\u001B[0;32m      2\u001B[0m transform \u001B[38;5;241m=\u001B[39m WM811KTransformMultiple(\u001B[38;5;241m*\u001B[39mhyperparams)\n\u001B[1;32m----> 3\u001B[0m plt\u001B[38;5;241m.\u001B[39mimshow(\u001B[43mtransform\u001B[49m\u001B[43m(\u001B[49m\u001B[43mimage\u001B[49m\u001B[43m)\u001B[49m)\n",
      "Cell \u001B[1;32mIn[109], line 62\u001B[0m, in \u001B[0;36mWM811KTransformMultiple.__call__\u001B[1;34m(self, img)\u001B[0m\n\u001B[0;32m     61\u001B[0m \u001B[38;5;28;01mdef\u001B[39;00m \u001B[38;5;21m__call__\u001B[39m(\u001B[38;5;28mself\u001B[39m, img):\n\u001B[1;32m---> 62\u001B[0m     \u001B[38;5;28;01mreturn\u001B[39;00m \u001B[38;5;28;43mself\u001B[39;49m\u001B[38;5;241;43m.\u001B[39;49m\u001B[43mtransform\u001B[49m\u001B[43m(\u001B[49m\u001B[43mimage\u001B[49m\u001B[38;5;241;43m=\u001B[39;49m\u001B[43mimg\u001B[49m\u001B[43m)\u001B[49m[\u001B[38;5;124m'\u001B[39m\u001B[38;5;124mimage\u001B[39m\u001B[38;5;124m'\u001B[39m]\n",
      "File \u001B[1;32mC:\\Anaconda3\\envs\\wafer_aug_rl\\lib\\site-packages\\albumentations\\core\\composition.py:205\u001B[0m, in \u001B[0;36mCompose.__call__\u001B[1;34m(self, force_apply, *args, **data)\u001B[0m\n\u001B[0;32m    202\u001B[0m     p\u001B[38;5;241m.\u001B[39mpreprocess(data)\n\u001B[0;32m    204\u001B[0m \u001B[38;5;28;01mfor\u001B[39;00m idx, t \u001B[38;5;129;01min\u001B[39;00m \u001B[38;5;28menumerate\u001B[39m(transforms):\n\u001B[1;32m--> 205\u001B[0m     data \u001B[38;5;241m=\u001B[39m \u001B[43mt\u001B[49m\u001B[43m(\u001B[49m\u001B[38;5;241;43m*\u001B[39;49m\u001B[38;5;241;43m*\u001B[39;49m\u001B[43mdata\u001B[49m\u001B[43m)\u001B[49m\n\u001B[0;32m    207\u001B[0m     \u001B[38;5;28;01mif\u001B[39;00m check_each_transform:\n\u001B[0;32m    208\u001B[0m         data \u001B[38;5;241m=\u001B[39m \u001B[38;5;28mself\u001B[39m\u001B[38;5;241m.\u001B[39m_check_data_post_transform(data)\n",
      "File \u001B[1;32mC:\\Anaconda3\\envs\\wafer_aug_rl\\lib\\site-packages\\albumentations\\core\\transforms_interface.py:118\u001B[0m, in \u001B[0;36mBasicTransform.__call__\u001B[1;34m(self, force_apply, *args, **kwargs)\u001B[0m\n\u001B[0;32m    113\u001B[0m             warn(\n\u001B[0;32m    114\u001B[0m                 \u001B[38;5;28mself\u001B[39m\u001B[38;5;241m.\u001B[39mget_class_fullname() \u001B[38;5;241m+\u001B[39m \u001B[38;5;124m\"\u001B[39m\u001B[38;5;124m could work incorrectly in ReplayMode for other input data\u001B[39m\u001B[38;5;124m\"\u001B[39m\n\u001B[0;32m    115\u001B[0m                 \u001B[38;5;124m\"\u001B[39m\u001B[38;5;124m because its\u001B[39m\u001B[38;5;124m'\u001B[39m\u001B[38;5;124m params depend on targets.\u001B[39m\u001B[38;5;124m\"\u001B[39m\n\u001B[0;32m    116\u001B[0m             )\n\u001B[0;32m    117\u001B[0m         kwargs[\u001B[38;5;28mself\u001B[39m\u001B[38;5;241m.\u001B[39msave_key][\u001B[38;5;28mid\u001B[39m(\u001B[38;5;28mself\u001B[39m)] \u001B[38;5;241m=\u001B[39m deepcopy(params)\n\u001B[1;32m--> 118\u001B[0m     \u001B[38;5;28;01mreturn\u001B[39;00m \u001B[38;5;28;43mself\u001B[39;49m\u001B[38;5;241;43m.\u001B[39;49m\u001B[43mapply_with_params\u001B[49m\u001B[43m(\u001B[49m\u001B[43mparams\u001B[49m\u001B[43m,\u001B[49m\u001B[43m \u001B[49m\u001B[38;5;241;43m*\u001B[39;49m\u001B[38;5;241;43m*\u001B[39;49m\u001B[43mkwargs\u001B[49m\u001B[43m)\u001B[49m\n\u001B[0;32m    120\u001B[0m \u001B[38;5;28;01mreturn\u001B[39;00m kwargs\n",
      "File \u001B[1;32mC:\\Anaconda3\\envs\\wafer_aug_rl\\lib\\site-packages\\albumentations\\core\\transforms_interface.py:131\u001B[0m, in \u001B[0;36mBasicTransform.apply_with_params\u001B[1;34m(self, params, **kwargs)\u001B[0m\n\u001B[0;32m    129\u001B[0m     target_function \u001B[38;5;241m=\u001B[39m \u001B[38;5;28mself\u001B[39m\u001B[38;5;241m.\u001B[39m_get_target_function(key)\n\u001B[0;32m    130\u001B[0m     target_dependencies \u001B[38;5;241m=\u001B[39m {k: kwargs[k] \u001B[38;5;28;01mfor\u001B[39;00m k \u001B[38;5;129;01min\u001B[39;00m \u001B[38;5;28mself\u001B[39m\u001B[38;5;241m.\u001B[39mtarget_dependence\u001B[38;5;241m.\u001B[39mget(key, [])}\n\u001B[1;32m--> 131\u001B[0m     res[key] \u001B[38;5;241m=\u001B[39m \u001B[43mtarget_function\u001B[49m\u001B[43m(\u001B[49m\u001B[43marg\u001B[49m\u001B[43m,\u001B[49m\u001B[43m \u001B[49m\u001B[38;5;241;43m*\u001B[39;49m\u001B[38;5;241;43m*\u001B[39;49m\u001B[38;5;28;43mdict\u001B[39;49m\u001B[43m(\u001B[49m\u001B[43mparams\u001B[49m\u001B[43m,\u001B[49m\u001B[43m \u001B[49m\u001B[38;5;241;43m*\u001B[39;49m\u001B[38;5;241;43m*\u001B[39;49m\u001B[43mtarget_dependencies\u001B[49m\u001B[43m)\u001B[49m\u001B[43m)\u001B[49m\n\u001B[0;32m    132\u001B[0m \u001B[38;5;28;01melse\u001B[39;00m:\n\u001B[0;32m    133\u001B[0m     res[key] \u001B[38;5;241m=\u001B[39m \u001B[38;5;28;01mNone\u001B[39;00m\n",
      "File \u001B[1;32mC:\\Anaconda3\\envs\\wafer_aug_rl\\lib\\site-packages\\albumentations\\augmentations\\geometric\\transforms.py:112\u001B[0m, in \u001B[0;36mShiftScaleRotate.apply\u001B[1;34m(self, img, angle, scale, dx, dy, interpolation, **params)\u001B[0m\n\u001B[0;32m    111\u001B[0m \u001B[38;5;28;01mdef\u001B[39;00m \u001B[38;5;21mapply\u001B[39m(\u001B[38;5;28mself\u001B[39m, img, angle\u001B[38;5;241m=\u001B[39m\u001B[38;5;241m0\u001B[39m, scale\u001B[38;5;241m=\u001B[39m\u001B[38;5;241m0\u001B[39m, dx\u001B[38;5;241m=\u001B[39m\u001B[38;5;241m0\u001B[39m, dy\u001B[38;5;241m=\u001B[39m\u001B[38;5;241m0\u001B[39m, interpolation\u001B[38;5;241m=\u001B[39mcv2\u001B[38;5;241m.\u001B[39mINTER_LINEAR, \u001B[38;5;241m*\u001B[39m\u001B[38;5;241m*\u001B[39mparams):\n\u001B[1;32m--> 112\u001B[0m     \u001B[38;5;28;01mreturn\u001B[39;00m \u001B[43mF\u001B[49m\u001B[38;5;241;43m.\u001B[39;49m\u001B[43mshift_scale_rotate\u001B[49m\u001B[43m(\u001B[49m\u001B[43mimg\u001B[49m\u001B[43m,\u001B[49m\u001B[43m \u001B[49m\u001B[43mangle\u001B[49m\u001B[43m,\u001B[49m\u001B[43m \u001B[49m\u001B[43mscale\u001B[49m\u001B[43m,\u001B[49m\u001B[43m \u001B[49m\u001B[43mdx\u001B[49m\u001B[43m,\u001B[49m\u001B[43m \u001B[49m\u001B[43mdy\u001B[49m\u001B[43m,\u001B[49m\u001B[43m \u001B[49m\u001B[43minterpolation\u001B[49m\u001B[43m,\u001B[49m\u001B[43m \u001B[49m\u001B[38;5;28;43mself\u001B[39;49m\u001B[38;5;241;43m.\u001B[39;49m\u001B[43mborder_mode\u001B[49m\u001B[43m,\u001B[49m\u001B[43m \u001B[49m\u001B[38;5;28;43mself\u001B[39;49m\u001B[38;5;241;43m.\u001B[39;49m\u001B[43mvalue\u001B[49m\u001B[43m)\u001B[49m\n",
      "File \u001B[1;32mC:\\Anaconda3\\envs\\wafer_aug_rl\\lib\\site-packages\\albumentations\\augmentations\\utils.py:122\u001B[0m, in \u001B[0;36mpreserve_channel_dim.<locals>.wrapped_function\u001B[1;34m(img, *args, **kwargs)\u001B[0m\n\u001B[0;32m    119\u001B[0m \u001B[38;5;129m@wraps\u001B[39m(func)\n\u001B[0;32m    120\u001B[0m \u001B[38;5;28;01mdef\u001B[39;00m \u001B[38;5;21mwrapped_function\u001B[39m(img: np\u001B[38;5;241m.\u001B[39mndarray, \u001B[38;5;241m*\u001B[39margs: P\u001B[38;5;241m.\u001B[39margs, \u001B[38;5;241m*\u001B[39m\u001B[38;5;241m*\u001B[39mkwargs: P\u001B[38;5;241m.\u001B[39mkwargs) \u001B[38;5;241m-\u001B[39m\u001B[38;5;241m>\u001B[39m np\u001B[38;5;241m.\u001B[39mndarray:\n\u001B[0;32m    121\u001B[0m     shape \u001B[38;5;241m=\u001B[39m img\u001B[38;5;241m.\u001B[39mshape\n\u001B[1;32m--> 122\u001B[0m     result \u001B[38;5;241m=\u001B[39m \u001B[43mfunc\u001B[49m\u001B[43m(\u001B[49m\u001B[43mimg\u001B[49m\u001B[43m,\u001B[49m\u001B[43m \u001B[49m\u001B[38;5;241;43m*\u001B[39;49m\u001B[43margs\u001B[49m\u001B[43m,\u001B[49m\u001B[43m \u001B[49m\u001B[38;5;241;43m*\u001B[39;49m\u001B[38;5;241;43m*\u001B[39;49m\u001B[43mkwargs\u001B[49m\u001B[43m)\u001B[49m\n\u001B[0;32m    123\u001B[0m     \u001B[38;5;28;01mif\u001B[39;00m \u001B[38;5;28mlen\u001B[39m(shape) \u001B[38;5;241m==\u001B[39m \u001B[38;5;241m3\u001B[39m \u001B[38;5;129;01mand\u001B[39;00m shape[\u001B[38;5;241m-\u001B[39m\u001B[38;5;241m1\u001B[39m] \u001B[38;5;241m==\u001B[39m \u001B[38;5;241m1\u001B[39m \u001B[38;5;129;01mand\u001B[39;00m \u001B[38;5;28mlen\u001B[39m(result\u001B[38;5;241m.\u001B[39mshape) \u001B[38;5;241m==\u001B[39m \u001B[38;5;241m2\u001B[39m:\n\u001B[0;32m    124\u001B[0m         result \u001B[38;5;241m=\u001B[39m np\u001B[38;5;241m.\u001B[39mexpand_dims(result, axis\u001B[38;5;241m=\u001B[39m\u001B[38;5;241m-\u001B[39m\u001B[38;5;241m1\u001B[39m)\n",
      "File \u001B[1;32mC:\\Anaconda3\\envs\\wafer_aug_rl\\lib\\site-packages\\albumentations\\augmentations\\geometric\\functional.py:232\u001B[0m, in \u001B[0;36mshift_scale_rotate\u001B[1;34m(img, angle, scale, dx, dy, interpolation, border_mode, value)\u001B[0m\n\u001B[0;32m    227\u001B[0m matrix[\u001B[38;5;241m1\u001B[39m, \u001B[38;5;241m2\u001B[39m] \u001B[38;5;241m+\u001B[39m\u001B[38;5;241m=\u001B[39m dy \u001B[38;5;241m*\u001B[39m height\n\u001B[0;32m    229\u001B[0m warp_affine_fn \u001B[38;5;241m=\u001B[39m _maybe_process_in_chunks(\n\u001B[0;32m    230\u001B[0m     cv2\u001B[38;5;241m.\u001B[39mwarpAffine, M\u001B[38;5;241m=\u001B[39mmatrix, dsize\u001B[38;5;241m=\u001B[39m(width, height), flags\u001B[38;5;241m=\u001B[39minterpolation, borderMode\u001B[38;5;241m=\u001B[39mborder_mode, borderValue\u001B[38;5;241m=\u001B[39mvalue\n\u001B[0;32m    231\u001B[0m )\n\u001B[1;32m--> 232\u001B[0m \u001B[38;5;28;01mreturn\u001B[39;00m \u001B[43mwarp_affine_fn\u001B[49m\u001B[43m(\u001B[49m\u001B[43mimg\u001B[49m\u001B[43m)\u001B[49m\n",
      "File \u001B[1;32mC:\\Anaconda3\\envs\\wafer_aug_rl\\lib\\site-packages\\albumentations\\augmentations\\utils.py:208\u001B[0m, in \u001B[0;36m_maybe_process_in_chunks.<locals>.__process_fn\u001B[1;34m(img)\u001B[0m\n\u001B[0;32m    206\u001B[0m     img \u001B[38;5;241m=\u001B[39m np\u001B[38;5;241m.\u001B[39mdstack(chunks)\n\u001B[0;32m    207\u001B[0m \u001B[38;5;28;01melse\u001B[39;00m:\n\u001B[1;32m--> 208\u001B[0m     img \u001B[38;5;241m=\u001B[39m \u001B[43mprocess_fn\u001B[49m\u001B[43m(\u001B[49m\u001B[43mimg\u001B[49m\u001B[43m,\u001B[49m\u001B[43m \u001B[49m\u001B[38;5;241;43m*\u001B[39;49m\u001B[38;5;241;43m*\u001B[39;49m\u001B[43mkwargs\u001B[49m\u001B[43m)\u001B[49m\n\u001B[0;32m    209\u001B[0m \u001B[38;5;28;01mreturn\u001B[39;00m img\n",
      "\u001B[1;31merror\u001B[0m: OpenCV(4.6.0) :-1: error: (-5:Bad argument) in function 'warpAffine'\n> Overload resolution failed:\n>  - src is not a numpy array, neither a scalar\n>  - Expected Ptr<cv::UMat> for argument 'src'\n"
     ]
    }
   ],
   "source": [
    "hyperparams = ['shift', 0.2, 'rotate', 0.3, 1.0]\n",
    "transform = WM811KTransformMultiple(*hyperparams)\n",
    "plt.imshow(transform(image))"
   ],
   "metadata": {
    "collapsed": false,
    "pycharm": {
     "name": "#%%\n"
    }
   }
  },
  {
   "cell_type": "code",
   "execution_count": 138,
   "outputs": [
    {
     "name": "stdout",
     "output_type": "stream",
     "text": [
      "start 4 --> ('rotate', 0.2, 'rotate', 0.3, 1.0)\n",
      "start... 0\n",
      "rotate\n"
     ]
    },
    {
     "ename": "error",
     "evalue": "OpenCV(4.6.0) :-1: error: (-5:Bad argument) in function 'warpAffine'\n> Overload resolution failed:\n>  - src is not a numpy array, neither a scalar\n>  - Expected Ptr<cv::UMat> for argument 'src'\n",
     "output_type": "error",
     "traceback": [
      "\u001B[1;31m---------------------------------------------------------------------------\u001B[0m",
      "\u001B[1;31merror\u001B[0m                                     Traceback (most recent call last)",
      "Cell \u001B[1;32mIn[138], line 3\u001B[0m\n\u001B[0;32m      1\u001B[0m hyperparams \u001B[38;5;241m=\u001B[39m [\u001B[38;5;124m'\u001B[39m\u001B[38;5;124mrotate\u001B[39m\u001B[38;5;124m'\u001B[39m, \u001B[38;5;241m0.2\u001B[39m, \u001B[38;5;124m'\u001B[39m\u001B[38;5;124mrotate\u001B[39m\u001B[38;5;124m'\u001B[39m, \u001B[38;5;241m0.3\u001B[39m, \u001B[38;5;241m1.0\u001B[39m]\n\u001B[0;32m      2\u001B[0m transform \u001B[38;5;241m=\u001B[39m WM811KTransformMultiple(\u001B[38;5;241m*\u001B[39mhyperparams)\n\u001B[1;32m----> 3\u001B[0m plt\u001B[38;5;241m.\u001B[39mimshow(\u001B[43mtransform\u001B[49m\u001B[43m(\u001B[49m\u001B[43mimage\u001B[49m\u001B[43m)\u001B[49m)\n",
      "Cell \u001B[1;32mIn[109], line 62\u001B[0m, in \u001B[0;36mWM811KTransformMultiple.__call__\u001B[1;34m(self, img)\u001B[0m\n\u001B[0;32m     61\u001B[0m \u001B[38;5;28;01mdef\u001B[39;00m \u001B[38;5;21m__call__\u001B[39m(\u001B[38;5;28mself\u001B[39m, img):\n\u001B[1;32m---> 62\u001B[0m     \u001B[38;5;28;01mreturn\u001B[39;00m \u001B[38;5;28;43mself\u001B[39;49m\u001B[38;5;241;43m.\u001B[39;49m\u001B[43mtransform\u001B[49m\u001B[43m(\u001B[49m\u001B[43mimage\u001B[49m\u001B[38;5;241;43m=\u001B[39;49m\u001B[43mimg\u001B[49m\u001B[43m)\u001B[49m[\u001B[38;5;124m'\u001B[39m\u001B[38;5;124mimage\u001B[39m\u001B[38;5;124m'\u001B[39m]\n",
      "File \u001B[1;32mC:\\Anaconda3\\envs\\wafer_aug_rl\\lib\\site-packages\\albumentations\\core\\composition.py:205\u001B[0m, in \u001B[0;36mCompose.__call__\u001B[1;34m(self, force_apply, *args, **data)\u001B[0m\n\u001B[0;32m    202\u001B[0m     p\u001B[38;5;241m.\u001B[39mpreprocess(data)\n\u001B[0;32m    204\u001B[0m \u001B[38;5;28;01mfor\u001B[39;00m idx, t \u001B[38;5;129;01min\u001B[39;00m \u001B[38;5;28menumerate\u001B[39m(transforms):\n\u001B[1;32m--> 205\u001B[0m     data \u001B[38;5;241m=\u001B[39m \u001B[43mt\u001B[49m\u001B[43m(\u001B[49m\u001B[38;5;241;43m*\u001B[39;49m\u001B[38;5;241;43m*\u001B[39;49m\u001B[43mdata\u001B[49m\u001B[43m)\u001B[49m\n\u001B[0;32m    207\u001B[0m     \u001B[38;5;28;01mif\u001B[39;00m check_each_transform:\n\u001B[0;32m    208\u001B[0m         data \u001B[38;5;241m=\u001B[39m \u001B[38;5;28mself\u001B[39m\u001B[38;5;241m.\u001B[39m_check_data_post_transform(data)\n",
      "File \u001B[1;32mC:\\Anaconda3\\envs\\wafer_aug_rl\\lib\\site-packages\\albumentations\\core\\transforms_interface.py:118\u001B[0m, in \u001B[0;36mBasicTransform.__call__\u001B[1;34m(self, force_apply, *args, **kwargs)\u001B[0m\n\u001B[0;32m    113\u001B[0m             warn(\n\u001B[0;32m    114\u001B[0m                 \u001B[38;5;28mself\u001B[39m\u001B[38;5;241m.\u001B[39mget_class_fullname() \u001B[38;5;241m+\u001B[39m \u001B[38;5;124m\"\u001B[39m\u001B[38;5;124m could work incorrectly in ReplayMode for other input data\u001B[39m\u001B[38;5;124m\"\u001B[39m\n\u001B[0;32m    115\u001B[0m                 \u001B[38;5;124m\"\u001B[39m\u001B[38;5;124m because its\u001B[39m\u001B[38;5;124m'\u001B[39m\u001B[38;5;124m params depend on targets.\u001B[39m\u001B[38;5;124m\"\u001B[39m\n\u001B[0;32m    116\u001B[0m             )\n\u001B[0;32m    117\u001B[0m         kwargs[\u001B[38;5;28mself\u001B[39m\u001B[38;5;241m.\u001B[39msave_key][\u001B[38;5;28mid\u001B[39m(\u001B[38;5;28mself\u001B[39m)] \u001B[38;5;241m=\u001B[39m deepcopy(params)\n\u001B[1;32m--> 118\u001B[0m     \u001B[38;5;28;01mreturn\u001B[39;00m \u001B[38;5;28;43mself\u001B[39;49m\u001B[38;5;241;43m.\u001B[39;49m\u001B[43mapply_with_params\u001B[49m\u001B[43m(\u001B[49m\u001B[43mparams\u001B[49m\u001B[43m,\u001B[49m\u001B[43m \u001B[49m\u001B[38;5;241;43m*\u001B[39;49m\u001B[38;5;241;43m*\u001B[39;49m\u001B[43mkwargs\u001B[49m\u001B[43m)\u001B[49m\n\u001B[0;32m    120\u001B[0m \u001B[38;5;28;01mreturn\u001B[39;00m kwargs\n",
      "File \u001B[1;32mC:\\Anaconda3\\envs\\wafer_aug_rl\\lib\\site-packages\\albumentations\\core\\transforms_interface.py:131\u001B[0m, in \u001B[0;36mBasicTransform.apply_with_params\u001B[1;34m(self, params, **kwargs)\u001B[0m\n\u001B[0;32m    129\u001B[0m     target_function \u001B[38;5;241m=\u001B[39m \u001B[38;5;28mself\u001B[39m\u001B[38;5;241m.\u001B[39m_get_target_function(key)\n\u001B[0;32m    130\u001B[0m     target_dependencies \u001B[38;5;241m=\u001B[39m {k: kwargs[k] \u001B[38;5;28;01mfor\u001B[39;00m k \u001B[38;5;129;01min\u001B[39;00m \u001B[38;5;28mself\u001B[39m\u001B[38;5;241m.\u001B[39mtarget_dependence\u001B[38;5;241m.\u001B[39mget(key, [])}\n\u001B[1;32m--> 131\u001B[0m     res[key] \u001B[38;5;241m=\u001B[39m \u001B[43mtarget_function\u001B[49m\u001B[43m(\u001B[49m\u001B[43marg\u001B[49m\u001B[43m,\u001B[49m\u001B[43m \u001B[49m\u001B[38;5;241;43m*\u001B[39;49m\u001B[38;5;241;43m*\u001B[39;49m\u001B[38;5;28;43mdict\u001B[39;49m\u001B[43m(\u001B[49m\u001B[43mparams\u001B[49m\u001B[43m,\u001B[49m\u001B[43m \u001B[49m\u001B[38;5;241;43m*\u001B[39;49m\u001B[38;5;241;43m*\u001B[39;49m\u001B[43mtarget_dependencies\u001B[49m\u001B[43m)\u001B[49m\u001B[43m)\u001B[49m\n\u001B[0;32m    132\u001B[0m \u001B[38;5;28;01melse\u001B[39;00m:\n\u001B[0;32m    133\u001B[0m     res[key] \u001B[38;5;241m=\u001B[39m \u001B[38;5;28;01mNone\u001B[39;00m\n",
      "File \u001B[1;32mC:\\Anaconda3\\envs\\wafer_aug_rl\\lib\\site-packages\\albumentations\\augmentations\\geometric\\rotate.py:110\u001B[0m, in \u001B[0;36mRotate.apply\u001B[1;34m(self, img, angle, interpolation, x_min, x_max, y_min, y_max, **params)\u001B[0m\n\u001B[0;32m    107\u001B[0m \u001B[38;5;28;01mdef\u001B[39;00m \u001B[38;5;21mapply\u001B[39m(\n\u001B[0;32m    108\u001B[0m     \u001B[38;5;28mself\u001B[39m, img, angle\u001B[38;5;241m=\u001B[39m\u001B[38;5;241m0\u001B[39m, interpolation\u001B[38;5;241m=\u001B[39mcv2\u001B[38;5;241m.\u001B[39mINTER_LINEAR, x_min\u001B[38;5;241m=\u001B[39m\u001B[38;5;28;01mNone\u001B[39;00m, x_max\u001B[38;5;241m=\u001B[39m\u001B[38;5;28;01mNone\u001B[39;00m, y_min\u001B[38;5;241m=\u001B[39m\u001B[38;5;28;01mNone\u001B[39;00m, y_max\u001B[38;5;241m=\u001B[39m\u001B[38;5;28;01mNone\u001B[39;00m, \u001B[38;5;241m*\u001B[39m\u001B[38;5;241m*\u001B[39mparams\n\u001B[0;32m    109\u001B[0m ):\n\u001B[1;32m--> 110\u001B[0m     img_out \u001B[38;5;241m=\u001B[39m \u001B[43mF\u001B[49m\u001B[38;5;241;43m.\u001B[39;49m\u001B[43mrotate\u001B[49m\u001B[43m(\u001B[49m\u001B[43mimg\u001B[49m\u001B[43m,\u001B[49m\u001B[43m \u001B[49m\u001B[43mangle\u001B[49m\u001B[43m,\u001B[49m\u001B[43m \u001B[49m\u001B[43minterpolation\u001B[49m\u001B[43m,\u001B[49m\u001B[43m \u001B[49m\u001B[38;5;28;43mself\u001B[39;49m\u001B[38;5;241;43m.\u001B[39;49m\u001B[43mborder_mode\u001B[49m\u001B[43m,\u001B[49m\u001B[43m \u001B[49m\u001B[38;5;28;43mself\u001B[39;49m\u001B[38;5;241;43m.\u001B[39;49m\u001B[43mvalue\u001B[49m\u001B[43m)\u001B[49m\n\u001B[0;32m    111\u001B[0m     \u001B[38;5;28;01mif\u001B[39;00m \u001B[38;5;28mself\u001B[39m\u001B[38;5;241m.\u001B[39mcrop_border:\n\u001B[0;32m    112\u001B[0m         img_out \u001B[38;5;241m=\u001B[39m FCrops\u001B[38;5;241m.\u001B[39mcrop(img_out, x_min, y_min, x_max, y_max)\n",
      "File \u001B[1;32mC:\\Anaconda3\\envs\\wafer_aug_rl\\lib\\site-packages\\albumentations\\augmentations\\utils.py:122\u001B[0m, in \u001B[0;36mpreserve_channel_dim.<locals>.wrapped_function\u001B[1;34m(img, *args, **kwargs)\u001B[0m\n\u001B[0;32m    119\u001B[0m \u001B[38;5;129m@wraps\u001B[39m(func)\n\u001B[0;32m    120\u001B[0m \u001B[38;5;28;01mdef\u001B[39;00m \u001B[38;5;21mwrapped_function\u001B[39m(img: np\u001B[38;5;241m.\u001B[39mndarray, \u001B[38;5;241m*\u001B[39margs: P\u001B[38;5;241m.\u001B[39margs, \u001B[38;5;241m*\u001B[39m\u001B[38;5;241m*\u001B[39mkwargs: P\u001B[38;5;241m.\u001B[39mkwargs) \u001B[38;5;241m-\u001B[39m\u001B[38;5;241m>\u001B[39m np\u001B[38;5;241m.\u001B[39mndarray:\n\u001B[0;32m    121\u001B[0m     shape \u001B[38;5;241m=\u001B[39m img\u001B[38;5;241m.\u001B[39mshape\n\u001B[1;32m--> 122\u001B[0m     result \u001B[38;5;241m=\u001B[39m \u001B[43mfunc\u001B[49m\u001B[43m(\u001B[49m\u001B[43mimg\u001B[49m\u001B[43m,\u001B[49m\u001B[43m \u001B[49m\u001B[38;5;241;43m*\u001B[39;49m\u001B[43margs\u001B[49m\u001B[43m,\u001B[49m\u001B[43m \u001B[49m\u001B[38;5;241;43m*\u001B[39;49m\u001B[38;5;241;43m*\u001B[39;49m\u001B[43mkwargs\u001B[49m\u001B[43m)\u001B[49m\n\u001B[0;32m    123\u001B[0m     \u001B[38;5;28;01mif\u001B[39;00m \u001B[38;5;28mlen\u001B[39m(shape) \u001B[38;5;241m==\u001B[39m \u001B[38;5;241m3\u001B[39m \u001B[38;5;129;01mand\u001B[39;00m shape[\u001B[38;5;241m-\u001B[39m\u001B[38;5;241m1\u001B[39m] \u001B[38;5;241m==\u001B[39m \u001B[38;5;241m1\u001B[39m \u001B[38;5;129;01mand\u001B[39;00m \u001B[38;5;28mlen\u001B[39m(result\u001B[38;5;241m.\u001B[39mshape) \u001B[38;5;241m==\u001B[39m \u001B[38;5;241m2\u001B[39m:\n\u001B[0;32m    124\u001B[0m         result \u001B[38;5;241m=\u001B[39m np\u001B[38;5;241m.\u001B[39mexpand_dims(result, axis\u001B[38;5;241m=\u001B[39m\u001B[38;5;241m-\u001B[39m\u001B[38;5;241m1\u001B[39m)\n",
      "File \u001B[1;32mC:\\Anaconda3\\envs\\wafer_aug_rl\\lib\\site-packages\\albumentations\\augmentations\\geometric\\functional.py:151\u001B[0m, in \u001B[0;36mrotate\u001B[1;34m(img, angle, interpolation, border_mode, value)\u001B[0m\n\u001B[0;32m    146\u001B[0m matrix \u001B[38;5;241m=\u001B[39m cv2\u001B[38;5;241m.\u001B[39mgetRotationMatrix2D((width \u001B[38;5;241m/\u001B[39m \u001B[38;5;241m2\u001B[39m \u001B[38;5;241m-\u001B[39m \u001B[38;5;241m0.5\u001B[39m, height \u001B[38;5;241m/\u001B[39m \u001B[38;5;241m2\u001B[39m \u001B[38;5;241m-\u001B[39m \u001B[38;5;241m0.5\u001B[39m), angle, \u001B[38;5;241m1.0\u001B[39m)\n\u001B[0;32m    148\u001B[0m warp_fn \u001B[38;5;241m=\u001B[39m _maybe_process_in_chunks(\n\u001B[0;32m    149\u001B[0m     cv2\u001B[38;5;241m.\u001B[39mwarpAffine, M\u001B[38;5;241m=\u001B[39mmatrix, dsize\u001B[38;5;241m=\u001B[39m(width, height), flags\u001B[38;5;241m=\u001B[39minterpolation, borderMode\u001B[38;5;241m=\u001B[39mborder_mode, borderValue\u001B[38;5;241m=\u001B[39mvalue\n\u001B[0;32m    150\u001B[0m )\n\u001B[1;32m--> 151\u001B[0m \u001B[38;5;28;01mreturn\u001B[39;00m \u001B[43mwarp_fn\u001B[49m\u001B[43m(\u001B[49m\u001B[43mimg\u001B[49m\u001B[43m)\u001B[49m\n",
      "File \u001B[1;32mC:\\Anaconda3\\envs\\wafer_aug_rl\\lib\\site-packages\\albumentations\\augmentations\\utils.py:208\u001B[0m, in \u001B[0;36m_maybe_process_in_chunks.<locals>.__process_fn\u001B[1;34m(img)\u001B[0m\n\u001B[0;32m    206\u001B[0m     img \u001B[38;5;241m=\u001B[39m np\u001B[38;5;241m.\u001B[39mdstack(chunks)\n\u001B[0;32m    207\u001B[0m \u001B[38;5;28;01melse\u001B[39;00m:\n\u001B[1;32m--> 208\u001B[0m     img \u001B[38;5;241m=\u001B[39m \u001B[43mprocess_fn\u001B[49m\u001B[43m(\u001B[49m\u001B[43mimg\u001B[49m\u001B[43m,\u001B[49m\u001B[43m \u001B[49m\u001B[38;5;241;43m*\u001B[39;49m\u001B[38;5;241;43m*\u001B[39;49m\u001B[43mkwargs\u001B[49m\u001B[43m)\u001B[49m\n\u001B[0;32m    209\u001B[0m \u001B[38;5;28;01mreturn\u001B[39;00m img\n",
      "\u001B[1;31merror\u001B[0m: OpenCV(4.6.0) :-1: error: (-5:Bad argument) in function 'warpAffine'\n> Overload resolution failed:\n>  - src is not a numpy array, neither a scalar\n>  - Expected Ptr<cv::UMat> for argument 'src'\n"
     ]
    }
   ],
   "source": [
    "hyperparams = ['rotate', 0.2, 'rotate', 0.3, 1.0]\n",
    "transform = WM811KTransformMultiple(*hyperparams)\n",
    "plt.imshow(transform(image))"
   ],
   "metadata": {
    "collapsed": false,
    "pycharm": {
     "name": "#%%\n"
    }
   }
  },
  {
   "cell_type": "code",
   "execution_count": null,
   "outputs": [],
   "source": [],
   "metadata": {
    "collapsed": false,
    "pycharm": {
     "name": "#%%\n"
    }
   }
  }
 ],
 "metadata": {
  "kernelspec": {
   "display_name": "Python 3",
   "language": "python",
   "name": "python3"
  },
  "language_info": {
   "codemirror_mode": {
    "name": "ipython",
    "version": 2
   },
   "file_extension": ".py",
   "mimetype": "text/x-python",
   "name": "python",
   "nbconvert_exporter": "python",
   "pygments_lexer": "ipython2",
   "version": "2.7.6"
  }
 },
 "nbformat": 4,
 "nbformat_minor": 0
}